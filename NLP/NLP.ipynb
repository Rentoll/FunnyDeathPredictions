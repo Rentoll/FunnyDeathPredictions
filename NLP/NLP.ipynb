{
 "cells": [
  {
   "cell_type": "code",
   "execution_count": 1,
   "id": "3bc92205",
   "metadata": {},
   "outputs": [],
   "source": [
    "# DataFrame\n",
    "import pandas as pd\n",
    "\n",
    "# Matplot\n",
    "import matplotlib.pyplot as plt\n",
    "#%matplotlib inline\n",
    "\n",
    "# Scikit-learn\n",
    "from sklearn.model_selection import train_test_split\n",
    "from sklearn.preprocessing import LabelEncoder\n",
    "from sklearn.metrics import confusion_matrix, classification_report, accuracy_score\n",
    "#from sklearn.manifold import TSNE\n",
    "#from sklearn.feature_extraction.text import TfidfVectorizer\n",
    "\n",
    "# Keras\n",
    "from keras.preprocessing.text import Tokenizer\n",
    "#from keras.preprocessing.sequence import pad_sequences\n",
    "from keras.models import Sequential\n",
    "from keras.layers import Activation, Dense, Dropout, Embedding, Flatten, Conv1D, MaxPooling1D, LSTM\n",
    "#from keras import utils\n",
    "from keras.callbacks import ReduceLROnPlateau, EarlyStopping\n",
    "\n",
    "# nltk\n",
    "import nltk\n",
    "from nltk.corpus import stopwords\n",
    "from  nltk.stem import SnowballStemmer\n",
    "\n",
    "# Word2vec\n",
    "#import gensim\n",
    "\n",
    "# Utility\n",
    "import re\n",
    "import numpy as np\n",
    "import os\n",
    "from collections import Counter\n",
    "import logging\n",
    "import time\n",
    "import pickle\n",
    "import itertools\n",
    "\n",
    "from tqdm import tqdm\n",
    "import time\n",
    "from sklearn import preprocessing\n",
    "from nltk.tokenize import word_tokenize\n",
    "from nltk.stem import WordNetLemmatizer\n",
    "from sklearn.feature_extraction.text import CountVectorizer\n",
    "import torch\n",
    "from torch import nn, optim\n",
    "import torch.nn.functional as F"
   ]
  },
  {
   "cell_type": "markdown",
   "id": "07177831",
   "metadata": {},
   "source": [
    "# Загрузка датасета"
   ]
  },
  {
   "cell_type": "code",
   "execution_count": 2,
   "id": "318655a2",
   "metadata": {},
   "outputs": [],
   "source": [
    "DATASET_COLUMNS = [\"target\", \"ids\", \"date\", \"flag\", \"user\", \"text\"]\n",
    "DATASET_ENCODING = \"ISO-8859-1\""
   ]
  },
  {
   "cell_type": "code",
   "execution_count": 3,
   "id": "8a4270f3",
   "metadata": {},
   "outputs": [],
   "source": [
    "data_path = './training.1600000.processed.noemoticon.csv'\n",
    "df = pd.read_csv(data_path, encoding =DATASET_ENCODING , names=DATASET_COLUMNS)"
   ]
  },
  {
   "cell_type": "code",
   "execution_count": 4,
   "id": "3429bd23",
   "metadata": {},
   "outputs": [
    {
     "data": {
      "text/html": [
       "<div>\n",
       "<style scoped>\n",
       "    .dataframe tbody tr th:only-of-type {\n",
       "        vertical-align: middle;\n",
       "    }\n",
       "\n",
       "    .dataframe tbody tr th {\n",
       "        vertical-align: top;\n",
       "    }\n",
       "\n",
       "    .dataframe thead th {\n",
       "        text-align: right;\n",
       "    }\n",
       "</style>\n",
       "<table border=\"1\" class=\"dataframe\">\n",
       "  <thead>\n",
       "    <tr style=\"text-align: right;\">\n",
       "      <th></th>\n",
       "      <th>target</th>\n",
       "      <th>ids</th>\n",
       "      <th>date</th>\n",
       "      <th>flag</th>\n",
       "      <th>user</th>\n",
       "      <th>text</th>\n",
       "    </tr>\n",
       "  </thead>\n",
       "  <tbody>\n",
       "    <tr>\n",
       "      <th>0</th>\n",
       "      <td>0</td>\n",
       "      <td>1467810369</td>\n",
       "      <td>Mon Apr 06 22:19:45 PDT 2009</td>\n",
       "      <td>NO_QUERY</td>\n",
       "      <td>_TheSpecialOne_</td>\n",
       "      <td>@switchfoot http://twitpic.com/2y1zl - Awww, t...</td>\n",
       "    </tr>\n",
       "    <tr>\n",
       "      <th>1</th>\n",
       "      <td>0</td>\n",
       "      <td>1467810672</td>\n",
       "      <td>Mon Apr 06 22:19:49 PDT 2009</td>\n",
       "      <td>NO_QUERY</td>\n",
       "      <td>scotthamilton</td>\n",
       "      <td>is upset that he can't update his Facebook by ...</td>\n",
       "    </tr>\n",
       "    <tr>\n",
       "      <th>2</th>\n",
       "      <td>0</td>\n",
       "      <td>1467810917</td>\n",
       "      <td>Mon Apr 06 22:19:53 PDT 2009</td>\n",
       "      <td>NO_QUERY</td>\n",
       "      <td>mattycus</td>\n",
       "      <td>@Kenichan I dived many times for the ball. Man...</td>\n",
       "    </tr>\n",
       "    <tr>\n",
       "      <th>3</th>\n",
       "      <td>0</td>\n",
       "      <td>1467811184</td>\n",
       "      <td>Mon Apr 06 22:19:57 PDT 2009</td>\n",
       "      <td>NO_QUERY</td>\n",
       "      <td>ElleCTF</td>\n",
       "      <td>my whole body feels itchy and like its on fire</td>\n",
       "    </tr>\n",
       "    <tr>\n",
       "      <th>4</th>\n",
       "      <td>0</td>\n",
       "      <td>1467811193</td>\n",
       "      <td>Mon Apr 06 22:19:57 PDT 2009</td>\n",
       "      <td>NO_QUERY</td>\n",
       "      <td>Karoli</td>\n",
       "      <td>@nationwideclass no, it's not behaving at all....</td>\n",
       "    </tr>\n",
       "  </tbody>\n",
       "</table>\n",
       "</div>"
      ],
      "text/plain": [
       "   target         ids                          date      flag  \\\n",
       "0       0  1467810369  Mon Apr 06 22:19:45 PDT 2009  NO_QUERY   \n",
       "1       0  1467810672  Mon Apr 06 22:19:49 PDT 2009  NO_QUERY   \n",
       "2       0  1467810917  Mon Apr 06 22:19:53 PDT 2009  NO_QUERY   \n",
       "3       0  1467811184  Mon Apr 06 22:19:57 PDT 2009  NO_QUERY   \n",
       "4       0  1467811193  Mon Apr 06 22:19:57 PDT 2009  NO_QUERY   \n",
       "\n",
       "              user                                               text  \n",
       "0  _TheSpecialOne_  @switchfoot http://twitpic.com/2y1zl - Awww, t...  \n",
       "1    scotthamilton  is upset that he can't update his Facebook by ...  \n",
       "2         mattycus  @Kenichan I dived many times for the ball. Man...  \n",
       "3          ElleCTF    my whole body feels itchy and like its on fire   \n",
       "4           Karoli  @nationwideclass no, it's not behaving at all....  "
      ]
     },
     "execution_count": 4,
     "metadata": {},
     "output_type": "execute_result"
    }
   ],
   "source": [
    "df.head()"
   ]
  },
  {
   "cell_type": "code",
   "execution_count": 5,
   "id": "87a0d273",
   "metadata": {},
   "outputs": [
    {
     "name": "stdout",
     "output_type": "stream",
     "text": [
      "Dataset size: 1600000\n"
     ]
    }
   ],
   "source": [
    "print(\"Dataset size:\", len(df))"
   ]
  },
  {
   "cell_type": "code",
   "execution_count": 6,
   "id": "a79f4ba2",
   "metadata": {},
   "outputs": [
    {
     "data": {
      "text/html": [
       "<div>\n",
       "<style scoped>\n",
       "    .dataframe tbody tr th:only-of-type {\n",
       "        vertical-align: middle;\n",
       "    }\n",
       "\n",
       "    .dataframe tbody tr th {\n",
       "        vertical-align: top;\n",
       "    }\n",
       "\n",
       "    .dataframe thead th {\n",
       "        text-align: right;\n",
       "    }\n",
       "</style>\n",
       "<table border=\"1\" class=\"dataframe\">\n",
       "  <thead>\n",
       "    <tr style=\"text-align: right;\">\n",
       "      <th></th>\n",
       "      <th>target</th>\n",
       "      <th>ids</th>\n",
       "      <th>date</th>\n",
       "      <th>flag</th>\n",
       "      <th>user</th>\n",
       "      <th>text</th>\n",
       "    </tr>\n",
       "  </thead>\n",
       "  <tbody>\n",
       "    <tr>\n",
       "      <th>0</th>\n",
       "      <td>0</td>\n",
       "      <td>1467810369</td>\n",
       "      <td>Mon Apr 06 22:19:45 PDT 2009</td>\n",
       "      <td>NO_QUERY</td>\n",
       "      <td>_TheSpecialOne_</td>\n",
       "      <td>@switchfoot http://twitpic.com/2y1zl - Awww, t...</td>\n",
       "    </tr>\n",
       "    <tr>\n",
       "      <th>1</th>\n",
       "      <td>0</td>\n",
       "      <td>1467810672</td>\n",
       "      <td>Mon Apr 06 22:19:49 PDT 2009</td>\n",
       "      <td>NO_QUERY</td>\n",
       "      <td>scotthamilton</td>\n",
       "      <td>is upset that he can't update his Facebook by ...</td>\n",
       "    </tr>\n",
       "    <tr>\n",
       "      <th>2</th>\n",
       "      <td>0</td>\n",
       "      <td>1467810917</td>\n",
       "      <td>Mon Apr 06 22:19:53 PDT 2009</td>\n",
       "      <td>NO_QUERY</td>\n",
       "      <td>mattycus</td>\n",
       "      <td>@Kenichan I dived many times for the ball. Man...</td>\n",
       "    </tr>\n",
       "    <tr>\n",
       "      <th>3</th>\n",
       "      <td>0</td>\n",
       "      <td>1467811184</td>\n",
       "      <td>Mon Apr 06 22:19:57 PDT 2009</td>\n",
       "      <td>NO_QUERY</td>\n",
       "      <td>ElleCTF</td>\n",
       "      <td>my whole body feels itchy and like its on fire</td>\n",
       "    </tr>\n",
       "    <tr>\n",
       "      <th>4</th>\n",
       "      <td>0</td>\n",
       "      <td>1467811193</td>\n",
       "      <td>Mon Apr 06 22:19:57 PDT 2009</td>\n",
       "      <td>NO_QUERY</td>\n",
       "      <td>Karoli</td>\n",
       "      <td>@nationwideclass no, it's not behaving at all....</td>\n",
       "    </tr>\n",
       "    <tr>\n",
       "      <th>5</th>\n",
       "      <td>0</td>\n",
       "      <td>1467811372</td>\n",
       "      <td>Mon Apr 06 22:20:00 PDT 2009</td>\n",
       "      <td>NO_QUERY</td>\n",
       "      <td>joy_wolf</td>\n",
       "      <td>@Kwesidei not the whole crew</td>\n",
       "    </tr>\n",
       "    <tr>\n",
       "      <th>6</th>\n",
       "      <td>0</td>\n",
       "      <td>1467811592</td>\n",
       "      <td>Mon Apr 06 22:20:03 PDT 2009</td>\n",
       "      <td>NO_QUERY</td>\n",
       "      <td>mybirch</td>\n",
       "      <td>Need a hug</td>\n",
       "    </tr>\n",
       "    <tr>\n",
       "      <th>7</th>\n",
       "      <td>0</td>\n",
       "      <td>1467811594</td>\n",
       "      <td>Mon Apr 06 22:20:03 PDT 2009</td>\n",
       "      <td>NO_QUERY</td>\n",
       "      <td>coZZ</td>\n",
       "      <td>@LOLTrish hey  long time no see! Yes.. Rains a...</td>\n",
       "    </tr>\n",
       "    <tr>\n",
       "      <th>8</th>\n",
       "      <td>0</td>\n",
       "      <td>1467811795</td>\n",
       "      <td>Mon Apr 06 22:20:05 PDT 2009</td>\n",
       "      <td>NO_QUERY</td>\n",
       "      <td>2Hood4Hollywood</td>\n",
       "      <td>@Tatiana_K nope they didn't have it</td>\n",
       "    </tr>\n",
       "    <tr>\n",
       "      <th>9</th>\n",
       "      <td>0</td>\n",
       "      <td>1467812025</td>\n",
       "      <td>Mon Apr 06 22:20:09 PDT 2009</td>\n",
       "      <td>NO_QUERY</td>\n",
       "      <td>mimismo</td>\n",
       "      <td>@twittera que me muera ?</td>\n",
       "    </tr>\n",
       "  </tbody>\n",
       "</table>\n",
       "</div>"
      ],
      "text/plain": [
       "   target         ids                          date      flag  \\\n",
       "0       0  1467810369  Mon Apr 06 22:19:45 PDT 2009  NO_QUERY   \n",
       "1       0  1467810672  Mon Apr 06 22:19:49 PDT 2009  NO_QUERY   \n",
       "2       0  1467810917  Mon Apr 06 22:19:53 PDT 2009  NO_QUERY   \n",
       "3       0  1467811184  Mon Apr 06 22:19:57 PDT 2009  NO_QUERY   \n",
       "4       0  1467811193  Mon Apr 06 22:19:57 PDT 2009  NO_QUERY   \n",
       "5       0  1467811372  Mon Apr 06 22:20:00 PDT 2009  NO_QUERY   \n",
       "6       0  1467811592  Mon Apr 06 22:20:03 PDT 2009  NO_QUERY   \n",
       "7       0  1467811594  Mon Apr 06 22:20:03 PDT 2009  NO_QUERY   \n",
       "8       0  1467811795  Mon Apr 06 22:20:05 PDT 2009  NO_QUERY   \n",
       "9       0  1467812025  Mon Apr 06 22:20:09 PDT 2009  NO_QUERY   \n",
       "\n",
       "              user                                               text  \n",
       "0  _TheSpecialOne_  @switchfoot http://twitpic.com/2y1zl - Awww, t...  \n",
       "1    scotthamilton  is upset that he can't update his Facebook by ...  \n",
       "2         mattycus  @Kenichan I dived many times for the ball. Man...  \n",
       "3          ElleCTF    my whole body feels itchy and like its on fire   \n",
       "4           Karoli  @nationwideclass no, it's not behaving at all....  \n",
       "5         joy_wolf                      @Kwesidei not the whole crew   \n",
       "6          mybirch                                        Need a hug   \n",
       "7             coZZ  @LOLTrish hey  long time no see! Yes.. Rains a...  \n",
       "8  2Hood4Hollywood               @Tatiana_K nope they didn't have it   \n",
       "9          mimismo                          @twittera que me muera ?   "
      ]
     },
     "execution_count": 6,
     "metadata": {},
     "output_type": "execute_result"
    }
   ],
   "source": [
    "df.head(10)"
   ]
  },
  {
   "cell_type": "code",
   "execution_count": 7,
   "id": "03fd85f7",
   "metadata": {},
   "outputs": [
    {
     "name": "stdout",
     "output_type": "stream",
     "text": [
      "<class 'pandas.core.frame.DataFrame'>\n",
      "RangeIndex: 1600000 entries, 0 to 1599999\n",
      "Data columns (total 6 columns):\n",
      " #   Column  Non-Null Count    Dtype \n",
      "---  ------  --------------    ----- \n",
      " 0   target  1600000 non-null  int64 \n",
      " 1   ids     1600000 non-null  int64 \n",
      " 2   date    1600000 non-null  object\n",
      " 3   flag    1600000 non-null  object\n",
      " 4   user    1600000 non-null  object\n",
      " 5   text    1600000 non-null  object\n",
      "dtypes: int64(2), object(4)\n",
      "memory usage: 73.2+ MB\n"
     ]
    }
   ],
   "source": [
    "df.info()"
   ]
  },
  {
   "cell_type": "markdown",
   "id": "7e983aa9",
   "metadata": {},
   "source": [
    "## Предобработка"
   ]
  },
  {
   "cell_type": "code",
   "execution_count": 8,
   "id": "0d4fe4a3",
   "metadata": {},
   "outputs": [],
   "source": [
    "decode_map = {0: -1, 2: 0, 4: 1}\n",
    "def decode_sentiment(label):\n",
    "    return decode_map[int(label)]"
   ]
  },
  {
   "cell_type": "code",
   "execution_count": 9,
   "id": "dc77607f",
   "metadata": {},
   "outputs": [],
   "source": [
    "df.target = df.target.apply(lambda x: decode_sentiment(x))"
   ]
  },
  {
   "cell_type": "code",
   "execution_count": 10,
   "id": "ff53bb73",
   "metadata": {
    "scrolled": true
   },
   "outputs": [
    {
     "data": {
      "text/plain": [
       "Text(0.5, 1.0, 'Dataset labels distribuition')"
      ]
     },
     "execution_count": 10,
     "metadata": {},
     "output_type": "execute_result"
    },
    {
     "data": {
      "image/png": "[encoded data removed]",
      "text/plain": [
       "<Figure size 1152x576 with 1 Axes>"
      ]
     },
     "metadata": {
      "needs_background": "light"
     },
     "output_type": "display_data"
    }
   ],
   "source": [
    "target_cnt = Counter(df.target)\n",
    "\n",
    "plt.figure(figsize=(16,8))\n",
    "plt.bar(target_cnt.keys(), target_cnt.values())\n",
    "plt.title(\"Dataset labels distribuition\")"
   ]
  },
  {
   "cell_type": "markdown",
   "id": "0709b3a9",
   "metadata": {},
   "source": [
    "Удаляем ненужные столбцы и уменьшаем выборку потому что мы не хотим сидеть ждать неделю на каждом запуске"
   ]
  },
  {
   "cell_type": "code",
   "execution_count": 29,
   "id": "fb644605",
   "metadata": {},
   "outputs": [
    {
     "data": {
      "text/html": [
       "<div>\n",
       "<style scoped>\n",
       "    .dataframe tbody tr th:only-of-type {\n",
       "        vertical-align: middle;\n",
       "    }\n",
       "\n",
       "    .dataframe tbody tr th {\n",
       "        vertical-align: top;\n",
       "    }\n",
       "\n",
       "    .dataframe thead th {\n",
       "        text-align: right;\n",
       "    }\n",
       "</style>\n",
       "<table border=\"1\" class=\"dataframe\">\n",
       "  <thead>\n",
       "    <tr style=\"text-align: right;\">\n",
       "      <th></th>\n",
       "      <th>target</th>\n",
       "      <th>text</th>\n",
       "    </tr>\n",
       "  </thead>\n",
       "  <tbody>\n",
       "    <tr>\n",
       "      <th>0</th>\n",
       "      <td>-1</td>\n",
       "      <td>Just got off the phone with the boyfrann, miss...</td>\n",
       "    </tr>\n",
       "    <tr>\n",
       "      <th>1</th>\n",
       "      <td>1</td>\n",
       "      <td>watching neighbourssssss</td>\n",
       "    </tr>\n",
       "    <tr>\n",
       "      <th>2</th>\n",
       "      <td>1</td>\n",
       "      <td>YES YES finaly the weekend is here, pity about...</td>\n",
       "    </tr>\n",
       "    <tr>\n",
       "      <th>3</th>\n",
       "      <td>-1</td>\n",
       "      <td>@RokkKrinn . and what a bloodbath if he does, ...</td>\n",
       "    </tr>\n",
       "    <tr>\n",
       "      <th>4</th>\n",
       "      <td>1</td>\n",
       "      <td>@Hiltaldo Sounds perfect!! Enjoy</td>\n",
       "    </tr>\n",
       "    <tr>\n",
       "      <th>...</th>\n",
       "      <td>...</td>\n",
       "      <td>...</td>\n",
       "    </tr>\n",
       "    <tr>\n",
       "      <th>995</th>\n",
       "      <td>-1</td>\n",
       "      <td>Desperately tired with another late night to l...</td>\n",
       "    </tr>\n",
       "    <tr>\n",
       "      <th>996</th>\n",
       "      <td>1</td>\n",
       "      <td>Triclops custom Man-3-Faces now online http://...</td>\n",
       "    </tr>\n",
       "    <tr>\n",
       "      <th>997</th>\n",
       "      <td>-1</td>\n",
       "      <td>@courtrex I prefered the soviet union  il refe...</td>\n",
       "    </tr>\n",
       "    <tr>\n",
       "      <th>998</th>\n",
       "      <td>1</td>\n",
       "      <td>Everybody vote MILEY for the MTV awards  GO MI...</td>\n",
       "    </tr>\n",
       "    <tr>\n",
       "      <th>999</th>\n",
       "      <td>1</td>\n",
       "      <td>@parisjay CB is hotness!!!!  hope they will fi...</td>\n",
       "    </tr>\n",
       "  </tbody>\n",
       "</table>\n",
       "<p>1000 rows × 2 columns</p>\n",
       "</div>"
      ],
      "text/plain": [
       "     target                                               text\n",
       "0        -1  Just got off the phone with the boyfrann, miss...\n",
       "1         1                         watching neighbourssssss  \n",
       "2         1  YES YES finaly the weekend is here, pity about...\n",
       "3        -1  @RokkKrinn . and what a bloodbath if he does, ...\n",
       "4         1                  @Hiltaldo Sounds perfect!! Enjoy \n",
       "..      ...                                                ...\n",
       "995      -1  Desperately tired with another late night to l...\n",
       "996       1  Triclops custom Man-3-Faces now online http://...\n",
       "997      -1  @courtrex I prefered the soviet union  il refe...\n",
       "998       1  Everybody vote MILEY for the MTV awards  GO MI...\n",
       "999       1  @parisjay CB is hotness!!!!  hope they will fi...\n",
       "\n",
       "[1000 rows x 2 columns]"
      ]
     },
     "execution_count": 29,
     "metadata": {},
     "output_type": "execute_result"
    }
   ],
   "source": [
    "#data = df[:10000]\n",
    "data = df.sample(frac=1)\n",
    "data = data[:1000] \n",
    "data = data.drop(['ids', 'date', 'flag', 'user'], axis = 1)\n",
    "data = data.reset_index(drop=True)\n",
    "data"
   ]
  },
  {
   "cell_type": "code",
   "execution_count": 31,
   "id": "ddebbda9",
   "metadata": {},
   "outputs": [
    {
     "name": "stderr",
     "output_type": "stream",
     "text": [
      "[nltk_data] Downloading package stopwords to\n",
      "[nltk_data]     /home/dredpury/nltk_data...\n",
      "[nltk_data]   Package stopwords is already up-to-date!\n"
     ]
    },
    {
     "data": {
      "text/plain": [
       "True"
      ]
     },
     "execution_count": 31,
     "metadata": {},
     "output_type": "execute_result"
    }
   ],
   "source": [
    "nltk.download('stopwords')"
   ]
  },
  {
   "cell_type": "code",
   "execution_count": 32,
   "id": "6f850089",
   "metadata": {},
   "outputs": [
    {
     "ename": "AttributeError",
     "evalue": "'list' object has no attribute 'words'",
     "output_type": "error",
     "traceback": [
      "\u001b[0;31m---------------------------------------------------------------------------\u001b[0m",
      "\u001b[0;31mAttributeError\u001b[0m                            Traceback (most recent call last)",
      "\u001b[0;32m<ipython-input-32-18926cfa622e>\u001b[0m in \u001b[0;36m<module>\u001b[0;34m\u001b[0m\n\u001b[0;32m----> 1\u001b[0;31m \u001b[0mstopwords\u001b[0m \u001b[0;34m=\u001b[0m \u001b[0mstopwords\u001b[0m\u001b[0;34m.\u001b[0m\u001b[0mwords\u001b[0m\u001b[0;34m(\u001b[0m\u001b[0;34m'english'\u001b[0m\u001b[0;34m)\u001b[0m\u001b[0;34m\u001b[0m\u001b[0;34m\u001b[0m\u001b[0m\n\u001b[0m",
      "\u001b[0;31mAttributeError\u001b[0m: 'list' object has no attribute 'words'"
     ]
    }
   ],
   "source": [
    "stopwords = stopwords.words('english')"
   ]
  },
  {
   "cell_type": "code",
   "execution_count": 33,
   "id": "931c1b16",
   "metadata": {},
   "outputs": [
    {
     "name": "stdout",
     "output_type": "stream",
     "text": [
      "['i', 'me', 'my', 'myself', 'we', 'our', 'ours', 'ourselves', 'you', \"you're\", \"you've\", \"you'll\", \"you'd\", 'your', 'yours', 'yourself', 'yourselves', 'he', 'him', 'his', 'himself', 'she', \"she's\", 'her', 'hers', 'herself', 'it', \"it's\", 'its', 'itself', 'they', 'them', 'their', 'theirs', 'themselves', 'what', 'which', 'who', 'whom', 'this', 'that', \"that'll\", 'these', 'those', 'am', 'is', 'are', 'was', 'were', 'be', 'been', 'being', 'have', 'has', 'had', 'having', 'do', 'does', 'did', 'doing', 'a', 'an', 'the', 'and', 'but', 'if', 'or', 'because', 'as', 'until', 'while', 'of', 'at', 'by', 'for', 'with', 'about', 'against', 'between', 'into', 'through', 'during', 'before', 'after', 'above', 'below', 'to', 'from', 'up', 'down', 'in', 'out', 'on', 'off', 'over', 'under', 'again', 'further', 'then', 'once', 'here', 'there', 'when', 'where', 'why', 'how', 'all', 'any', 'both', 'each', 'few', 'more', 'most', 'other', 'some', 'such', 'no', 'nor', 'not', 'only', 'own', 'same', 'so', 'than', 'too', 'very', 's', 't', 'can', 'will', 'just', 'don', \"don't\", 'should', \"should've\", 'now', 'd', 'll', 'm', 'o', 're', 've', 'y', 'ain', 'aren', \"aren't\", 'couldn', \"couldn't\", 'didn', \"didn't\", 'doesn', \"doesn't\", 'hadn', \"hadn't\", 'hasn', \"hasn't\", 'haven', \"haven't\", 'isn', \"isn't\", 'ma', 'mightn', \"mightn't\", 'mustn', \"mustn't\", 'needn', \"needn't\", 'shan', \"shan't\", 'shouldn', \"shouldn't\", 'wasn', \"wasn't\", 'weren', \"weren't\", 'won', \"won't\", 'wouldn', \"wouldn't\"]\n"
     ]
    }
   ],
   "source": [
    "print(stopwords)"
   ]
  },
  {
   "cell_type": "code",
   "execution_count": null,
   "id": "5d5bdda9",
   "metadata": {},
   "outputs": [],
   "source": []
  },
  {
   "cell_type": "code",
   "execution_count": 34,
   "id": "f767bc39",
   "metadata": {},
   "outputs": [
    {
     "name": "stderr",
     "output_type": "stream",
     "text": [
      "[nltk_data] Downloading package wordnet to /home/dredpury/nltk_data...\n",
      "[nltk_data]   Package wordnet is already up-to-date!\n"
     ]
    },
    {
     "data": {
      "text/plain": [
       "True"
      ]
     },
     "execution_count": 34,
     "metadata": {},
     "output_type": "execute_result"
    }
   ],
   "source": [
    "nltk.download('wordnet')"
   ]
  },
  {
   "cell_type": "code",
   "execution_count": 35,
   "id": "dbaa0bba",
   "metadata": {},
   "outputs": [],
   "source": [
    "def lemmatize_df(df, stopwords, column):\n",
    "    lemmatizer = WordNetLemmatizer()\n",
    "    for i in range(len(df[column])):\n",
    "        temp_string = \"\"\n",
    "        for word in df[column][i].split():\n",
    "            word = (\"\".join(e for e in word if e.isalnum()))\n",
    "            word = word.lower()\n",
    "            word = lemmatizer.lemmatize(word)\n",
    "            if not word in stopwords:\n",
    "                temp_string += word + \" \"  \n",
    "            \n",
    "        df.at[i,column] = temp_string.strip()\n",
    "    return df"
   ]
  },
  {
   "cell_type": "code",
   "execution_count": 36,
   "id": "317688bb",
   "metadata": {},
   "outputs": [],
   "source": [
    "lemmatized_data_tweets = lemmatize_df(data, stopwords, 'text')"
   ]
  },
  {
   "cell_type": "code",
   "execution_count": 37,
   "id": "bf2b1bfb",
   "metadata": {},
   "outputs": [
    {
     "data": {
      "text/html": [
       "<div>\n",
       "<style scoped>\n",
       "    .dataframe tbody tr th:only-of-type {\n",
       "        vertical-align: middle;\n",
       "    }\n",
       "\n",
       "    .dataframe tbody tr th {\n",
       "        vertical-align: top;\n",
       "    }\n",
       "\n",
       "    .dataframe thead th {\n",
       "        text-align: right;\n",
       "    }\n",
       "</style>\n",
       "<table border=\"1\" class=\"dataframe\">\n",
       "  <thead>\n",
       "    <tr style=\"text-align: right;\">\n",
       "      <th></th>\n",
       "      <th>target</th>\n",
       "      <th>text</th>\n",
       "    </tr>\n",
       "  </thead>\n",
       "  <tbody>\n",
       "    <tr>\n",
       "      <th>0</th>\n",
       "      <td>-1</td>\n",
       "      <td>got phone boyfrann missin bed time longgg day ...</td>\n",
       "    </tr>\n",
       "    <tr>\n",
       "      <th>1</th>\n",
       "      <td>1</td>\n",
       "      <td>watching neighbour</td>\n",
       "    </tr>\n",
       "    <tr>\n",
       "      <th>2</th>\n",
       "      <td>1</td>\n",
       "      <td>yes yes finaly weekend pity bad weather hey fi...</td>\n",
       "    </tr>\n",
       "    <tr>\n",
       "      <th>3</th>\n",
       "      <td>-1</td>\n",
       "      <td>rokkkrinn  bloodbath doe  kid quantum jazmin l...</td>\n",
       "    </tr>\n",
       "    <tr>\n",
       "      <th>4</th>\n",
       "      <td>1</td>\n",
       "      <td>hiltaldo sound perfect enjoy</td>\n",
       "    </tr>\n",
       "    <tr>\n",
       "      <th>...</th>\n",
       "      <td>...</td>\n",
       "      <td>...</td>\n",
       "    </tr>\n",
       "    <tr>\n",
       "      <th>995</th>\n",
       "      <td>-1</td>\n",
       "      <td>desperately tired another late night look forw...</td>\n",
       "    </tr>\n",
       "    <tr>\n",
       "      <th>996</th>\n",
       "      <td>1</td>\n",
       "      <td>triclops custom man3faces online httpbitly14yg...</td>\n",
       "    </tr>\n",
       "    <tr>\n",
       "      <th>997</th>\n",
       "      <td>-1</td>\n",
       "      <td>courtrex prefered soviet union il refer quotwe...</td>\n",
       "    </tr>\n",
       "    <tr>\n",
       "      <th>998</th>\n",
       "      <td>1</td>\n",
       "      <td>everybody vote miley mtv award go miley</td>\n",
       "    </tr>\n",
       "    <tr>\n",
       "      <th>999</th>\n",
       "      <td>1</td>\n",
       "      <td>parisjay cb hotness hope finally get together ...</td>\n",
       "    </tr>\n",
       "  </tbody>\n",
       "</table>\n",
       "<p>1000 rows × 2 columns</p>\n",
       "</div>"
      ],
      "text/plain": [
       "     target                                               text\n",
       "0        -1  got phone boyfrann missin bed time longgg day ...\n",
       "1         1                                 watching neighbour\n",
       "2         1  yes yes finaly weekend pity bad weather hey fi...\n",
       "3        -1  rokkkrinn  bloodbath doe  kid quantum jazmin l...\n",
       "4         1                       hiltaldo sound perfect enjoy\n",
       "..      ...                                                ...\n",
       "995      -1  desperately tired another late night look forw...\n",
       "996       1  triclops custom man3faces online httpbitly14yg...\n",
       "997      -1  courtrex prefered soviet union il refer quotwe...\n",
       "998       1            everybody vote miley mtv award go miley\n",
       "999       1  parisjay cb hotness hope finally get together ...\n",
       "\n",
       "[1000 rows x 2 columns]"
      ]
     },
     "execution_count": 37,
     "metadata": {},
     "output_type": "execute_result"
    }
   ],
   "source": [
    "lemmatized_data_tweets"
   ]
  },
  {
   "cell_type": "code",
   "execution_count": null,
   "id": "d6cf9633",
   "metadata": {},
   "outputs": [],
   "source": []
  },
  {
   "cell_type": "code",
   "execution_count": 38,
   "id": "f57ae909",
   "metadata": {},
   "outputs": [],
   "source": [
    "tweets_copy = lemmatized_data_tweets.copy()\n",
    "encoders = {}\n",
    "\n",
    "encoder = preprocessing.LabelEncoder()\n",
    "encoder.fit(tweets_copy[\"target\"])\n",
    "tweets_copy[\"target\"] = encoder.transform(tweets_copy[\"target\"])\n",
    "encoders[\"target\"] = encoder"
   ]
  },
  {
   "cell_type": "code",
   "execution_count": 39,
   "id": "da3cc2fa",
   "metadata": {},
   "outputs": [
    {
     "name": "stdout",
     "output_type": "stream",
     "text": [
      "TRAIN size: 800\n",
      "TEST size: 200\n"
     ]
    }
   ],
   "source": [
    "df_train, df_test = train_test_split(data, test_size=1-0.8, random_state=42)\n",
    "print(\"TRAIN size:\", len(df_train))\n",
    "print(\"TEST size:\", len(df_test))"
   ]
  },
  {
   "cell_type": "code",
   "execution_count": 40,
   "id": "48df7758",
   "metadata": {},
   "outputs": [],
   "source": [
    "data_split = tweets_copy.copy()\n",
    "y = data_split['target'].values\n",
    "x = data_split.drop(['target'], axis=1)\n",
    "X_train, X_test, Y_train, Y_test = train_test_split(x, y, test_size=0.2)\n",
    "vect = CountVectorizer(min_df=10)"
   ]
  },
  {
   "cell_type": "code",
   "execution_count": null,
   "id": "7bc53a1c",
   "metadata": {},
   "outputs": [],
   "source": []
  },
  {
   "cell_type": "code",
   "execution_count": 41,
   "id": "005c3f32",
   "metadata": {},
   "outputs": [],
   "source": [
    "X_train_review_bow = vect.fit_transform(list(X_train['text'])).toarray()\n",
    "X_test_review_bow = vect.transform(X_test['text']).toarray()"
   ]
  },
  {
   "cell_type": "code",
   "execution_count": null,
   "id": "0c41e137",
   "metadata": {},
   "outputs": [],
   "source": []
  },
  {
   "cell_type": "code",
   "execution_count": 42,
   "id": "1ba2e99b",
   "metadata": {},
   "outputs": [],
   "source": [
    "def test_model(model, X_test, Y_test):\n",
    "    counter = 0\n",
    "    y_test_len = len(Y_test)\n",
    "\n",
    "    with torch.no_grad():\n",
    "        for i,data in enumerate(X_test):\n",
    "            y_val = model.forward(data)\n",
    "            if y_val.argmax().item() == Y_test[i]:\n",
    "                counter += 1\n",
    "    print(f'{counter} out of {y_test_len} = {100*counter/y_test_len:.2f}% right')"
   ]
  },
  {
   "cell_type": "code",
   "execution_count": 43,
   "id": "f1d04056",
   "metadata": {},
   "outputs": [],
   "source": [
    "X_train = torch.Tensor(X_train_review_bow)\n",
    "Y_train = torch.LongTensor(Y_train)\n",
    "X_test = torch.Tensor(X_test_review_bow)\n",
    "Y_test = torch.LongTensor(Y_test)"
   ]
  },
  {
   "cell_type": "code",
   "execution_count": 44,
   "id": "9f347bff",
   "metadata": {},
   "outputs": [
    {
     "data": {
      "text/plain": [
       "85"
      ]
     },
     "execution_count": 44,
     "metadata": {},
     "output_type": "execute_result"
    }
   ],
   "source": [
    "len_vector = X_train_review_bow.shape[1]\n",
    "len_vector"
   ]
  },
  {
   "cell_type": "markdown",
   "id": "c94d2524",
   "metadata": {},
   "source": [
    "# Модели\n",
    "Модель 1"
   ]
  },
  {
   "cell_type": "code",
   "execution_count": 115,
   "id": "af925c6a",
   "metadata": {},
   "outputs": [],
   "source": [
    "model = nn.Sequential(\n",
    "        nn.Linear(len_vector, 10000),\n",
    "        nn.Linear(10000, 1000),\n",
    "        nn.Linear(1000, 100),\n",
    "        nn.Linear(100, 10),\n",
    "        nn.Sigmoid())\n"
   ]
  },
  {
   "cell_type": "code",
   "execution_count": 116,
   "id": "c0a85fce",
   "metadata": {},
   "outputs": [],
   "source": [
    "criterion = nn.CrossEntropyLoss()\n",
    "optimizer = torch.optim.Adam(model.parameters(), lr=0.01)"
   ]
  },
  {
   "cell_type": "code",
   "execution_count": 117,
   "id": "f0dcc2e8",
   "metadata": {},
   "outputs": [
    {
     "name": "stdout",
     "output_type": "stream",
     "text": [
      "Эпоха:1 потрачено:2.28530502\n",
      "33 из 200 = 16.50% угадано\n",
      "Эпоха:2 потрачено:1.59830356\n",
      "107 из 200 = 53.50% угадано\n",
      "Эпоха:3 потрачено:1.71692705\n",
      "107 из 200 = 53.50% угадано\n",
      "Эпоха:4 потрачено:1.59797990\n",
      "107 из 200 = 53.50% угадано\n",
      "Эпоха:5 потрачено:1.59797990\n",
      "107 из 200 = 53.50% угадано\n",
      "Эпоха:6 потрачено:1.59797990\n",
      "107 из 200 = 53.50% угадано\n",
      "Эпоха:7 потрачено:1.59797990\n",
      "107 из 200 = 53.50% угадано\n",
      "Эпоха:8 потрачено:1.59797990\n",
      "107 из 200 = 53.50% угадано\n",
      "Эпоха:9 потрачено:1.59797990\n",
      "107 из 200 = 53.50% угадано\n",
      "Эпоха:10 потрачено:1.59797990\n",
      "107 из 200 = 53.50% угадано\n"
     ]
    }
   ],
   "source": [
    "epochs = 10\n",
    "results1 = []\n",
    "potracheno = []\n",
    "for i in range(epochs):\n",
    "    i += 1\n",
    "    Y_pred = model.forward(X_train)\n",
    "    loss = criterion(Y_pred, Y_train)\n",
    "    potracheno.append(loss)\n",
    "\n",
    "    print(f'Эпоха:{i} потрачено:{loss.item():10.8f}')\n",
    "    counter = 0\n",
    "    y_test_len = len(Y_test)\n",
    "    with torch.no_grad():\n",
    "        for i,data in enumerate(X_test):\n",
    "            y_val = model.forward(data)\n",
    "            if y_val.argmax().item() == Y_test[i]:\n",
    "                counter += 1\n",
    "    model1_result = f'{100*counter/y_test_len:.2f}%'       \n",
    "    print(f'{counter} из {y_test_len} = {model1_result} угадано')\n",
    "    results1.append(100*counter/y_test_len)\n",
    "\n",
    "    optimizer.zero_grad()\n",
    "    loss.backward()\n",
    "    optimizer.step()"
   ]
  },
  {
   "cell_type": "code",
   "execution_count": 118,
   "id": "f131899e",
   "metadata": {},
   "outputs": [
    {
     "name": "stdout",
     "output_type": "stream",
     "text": [
      "107 из 200 = 53.50% угадано\n"
     ]
    }
   ],
   "source": [
    "counter = 0\n",
    "y_test_len = len(Y_test)\n",
    "with torch.no_grad():\n",
    "    for i,data in enumerate(X_test):\n",
    "        y_val = model.forward(data)\n",
    "        if y_val.argmax().item() == Y_test[i]:\n",
    "            counter += 1\n",
    "model1_result = f'{100*counter/y_test_len:.2f}%'       \n",
    "print(f'{counter} из {y_test_len} = {model1_result} угадано')"
   ]
  },
  {
   "cell_type": "code",
   "execution_count": null,
   "id": "c71026b2",
   "metadata": {},
   "outputs": [],
   "source": []
  },
  {
   "cell_type": "markdown",
   "id": "2f7233d7",
   "metadata": {},
   "source": [
    "Модель 2"
   ]
  },
  {
   "cell_type": "code",
   "execution_count": 119,
   "id": "7388a623",
   "metadata": {},
   "outputs": [],
   "source": [
    "model2 = nn.Sequential(\n",
    "        nn.Linear(len_vector, 1488),\n",
    "        nn.ReLU(),\n",
    "        nn.Linear(1488, 69),\n",
    "        nn.Sigmoid())"
   ]
  },
  {
   "cell_type": "code",
   "execution_count": 120,
   "id": "0e0d7bc3",
   "metadata": {},
   "outputs": [],
   "source": [
    "criterion = nn.CrossEntropyLoss()\n",
    "optimizer = torch.optim.Adam(model2.parameters(), lr=0.01)"
   ]
  },
  {
   "cell_type": "code",
   "execution_count": 121,
   "id": "e59f2e22",
   "metadata": {},
   "outputs": [
    {
     "name": "stdout",
     "output_type": "stream",
     "text": [
      "Эпоха:1 потрачено:4.22667170\n",
      "16 из 200 = 8.00% угадано\n",
      "Эпоха:2 потрачено:3.86249113\n",
      "107 из 200 = 53.50% угадано\n",
      "Эпоха:3 потрачено:3.56585121\n",
      "112 из 200 = 56.00% угадано\n",
      "Эпоха:4 потрачено:3.39585853\n",
      "118 из 200 = 59.00% угадано\n",
      "Эпоха:5 потрачено:3.32581997\n",
      "119 из 200 = 59.50% угадано\n",
      "Эпоха:6 потрачено:3.29950166\n",
      "122 из 200 = 61.00% угадано\n",
      "Эпоха:7 потрачено:3.28943944\n",
      "120 из 200 = 60.00% угадано\n",
      "Эпоха:8 потрачено:3.28548288\n",
      "123 из 200 = 61.50% угадано\n",
      "Эпоха:9 потрачено:3.28389096\n",
      "125 из 200 = 62.50% угадано\n",
      "Эпоха:10 потрачено:3.28323126\n",
      "132 из 200 = 66.00% угадано\n"
     ]
    }
   ],
   "source": [
    "epochs = 10\n",
    "results2 = []\n",
    "potracheno = []\n",
    "for i in range(epochs):\n",
    "    i += 1\n",
    "    Y_pred = model2.forward(X_train)\n",
    "    loss = criterion(Y_pred, Y_train)\n",
    "    potracheno.append(loss)\n",
    "\n",
    "    print(f'Эпоха:{i} потрачено:{loss.item():10.8f}')\n",
    "    counter = 0\n",
    "    y_test_len = len(Y_test)\n",
    "    with torch.no_grad():\n",
    "        for i,data in enumerate(X_test):\n",
    "            y_val = model2.forward(data)\n",
    "            if y_val.argmax().item() == Y_test[i]:\n",
    "                counter += 1\n",
    "    model2_result = f'{100*counter/y_test_len:.2f}%'       \n",
    "    print(f'{counter} из {y_test_len} = {model2_result} угадано')\n",
    "    results2.append(100*counter/y_test_len)\n",
    "    \n",
    "    optimizer.zero_grad()\n",
    "    loss.backward()\n",
    "    optimizer.step()"
   ]
  },
  {
   "cell_type": "code",
   "execution_count": 122,
   "id": "5de43c78",
   "metadata": {},
   "outputs": [
    {
     "name": "stdout",
     "output_type": "stream",
     "text": [
      "130 из 200 = 65.00% угадано\n"
     ]
    }
   ],
   "source": [
    "counter = 0\n",
    "y_test_len = len(Y_test)\n",
    "with torch.no_grad():\n",
    "    for i,data in enumerate(X_test):\n",
    "        y_val = model2.forward(data)\n",
    "        if y_val.argmax().item() == Y_test[i]:\n",
    "            counter += 1\n",
    "model2_result = f'{100*counter/y_test_len:.2f}%'       \n",
    "print(f'{counter} из {y_test_len} = {model2_result} угадано')"
   ]
  },
  {
   "cell_type": "markdown",
   "id": "50fcbeef",
   "metadata": {},
   "source": [
    "Модель 3"
   ]
  },
  {
   "cell_type": "code",
   "execution_count": 123,
   "id": "975df671",
   "metadata": {},
   "outputs": [],
   "source": [
    "model3 = nn.Sequential(\n",
    "        nn.Linear(len_vector, 2624),\n",
    "        nn.Linear(2624, 656),\n",
    "        nn.Linear(656, 164),\n",
    "        nn.Linear(164, 41),\n",
    "        nn.Sigmoid())"
   ]
  },
  {
   "cell_type": "code",
   "execution_count": 124,
   "id": "bceee6db",
   "metadata": {},
   "outputs": [
    {
     "name": "stdout",
     "output_type": "stream",
     "text": [
      "Эпоха:1 потрачено:3.70059514\n",
      "130 из 200 = 65.00% угадано\n",
      "Эпоха:2 потрачено:3.16623211\n",
      "130 из 200 = 65.00% угадано\n",
      "Эпоха:3 потрачено:2.79406404\n",
      "130 из 200 = 65.00% угадано\n",
      "Эпоха:4 потрачено:2.79406309\n",
      "130 из 200 = 65.00% угадано\n",
      "Эпоха:5 потрачено:2.79406309\n",
      "130 из 200 = 65.00% угадано\n",
      "Эпоха:6 потрачено:2.79406309\n",
      "130 из 200 = 65.00% угадано\n",
      "Эпоха:7 потрачено:2.79406309\n",
      "130 из 200 = 65.00% угадано\n",
      "Эпоха:8 потрачено:2.79406309\n",
      "130 из 200 = 65.00% угадано\n",
      "Эпоха:9 потрачено:2.79406309\n",
      "130 из 200 = 65.00% угадано\n",
      "Эпоха:10 потрачено:2.79406309\n",
      "130 из 200 = 65.00% угадано\n"
     ]
    }
   ],
   "source": [
    "criterion = nn.CrossEntropyLoss()\n",
    "optimizer = torch.optim.Adam(model3.parameters(), lr=0.01)\n",
    "epochs = 10\n",
    "potracheno = []\n",
    "results3 = []\n",
    "for i in range(epochs):\n",
    "    i += 1\n",
    "    Y_pred = model3.forward(X_train)\n",
    "    loss = criterion(Y_pred, Y_train)\n",
    "    potracheno.append(loss)\n",
    "\n",
    "    print(f'Эпоха:{i} потрачено:{loss.item():10.8f}')\n",
    "    counter = 0\n",
    "    y_test_len = len(Y_test)\n",
    "    with torch.no_grad():\n",
    "        for i,data in enumerate(X_test):\n",
    "            y_val = model2.forward(data)\n",
    "            if y_val.argmax().item() == Y_test[i]:\n",
    "                counter += 1\n",
    "    model3_result = f'{100*counter/y_test_len:.2f}%'       \n",
    "    print(f'{counter} из {y_test_len} = {model3_result} угадано')\n",
    "    results3.append(100*counter/y_test_len)\n",
    "\n",
    "    optimizer.zero_grad()\n",
    "    loss.backward()\n",
    "    optimizer.step()"
   ]
  },
  {
   "cell_type": "code",
   "execution_count": 125,
   "id": "21e715d4",
   "metadata": {},
   "outputs": [
    {
     "name": "stdout",
     "output_type": "stream",
     "text": [
      "107 из 200 = 53.50% угадано\n"
     ]
    }
   ],
   "source": [
    "counter = 0\n",
    "y_test_len = len(Y_test)\n",
    "with torch.no_grad():\n",
    "    for i,data in enumerate(X_test):\n",
    "        y_val = model3.forward(data)\n",
    "        if y_val.argmax().item() == Y_test[i]:\n",
    "            counter += 1\n",
    "model3_result = f'{100*counter/y_test_len:.2f}%'       \n",
    "print(f'{counter} из {y_test_len} = {model3_result} угадано')"
   ]
  },
  {
   "cell_type": "markdown",
   "id": "7e997907",
   "metadata": {},
   "source": [
    "Модель 4"
   ]
  },
  {
   "cell_type": "code",
   "execution_count": 126,
   "id": "76b0e814",
   "metadata": {},
   "outputs": [],
   "source": [
    "model4 = nn.Sequential(\n",
    "        nn.Dropout(0.25),\n",
    "        nn.Linear(len_vector, 500),\n",
    "        nn.Linear(500, 28),\n",
    "        nn.Sigmoid())"
   ]
  },
  {
   "cell_type": "code",
   "execution_count": 127,
   "id": "f3d81675",
   "metadata": {},
   "outputs": [
    {
     "name": "stdout",
     "output_type": "stream",
     "text": [
      "Эпоха:1 потрачено:3.31080604\n",
      "130 из 200 = 65.00% угадано\n",
      "Эпоха:2 потрачено:3.11916232\n",
      "130 из 200 = 65.00% угадано\n",
      "Эпоха:3 потрачено:2.91460347\n",
      "130 из 200 = 65.00% угадано\n",
      "Эпоха:4 потрачено:2.72645116\n",
      "130 из 200 = 65.00% угадано\n",
      "Эпоха:5 потрачено:2.59133220\n",
      "130 из 200 = 65.00% угадано\n",
      "Эпоха:6 потрачено:2.51996946\n",
      "130 из 200 = 65.00% угадано\n",
      "Эпоха:7 потрачено:2.48281002\n",
      "130 из 200 = 65.00% угадано\n",
      "Эпоха:8 потрачено:2.46555948\n",
      "130 из 200 = 65.00% угадано\n",
      "Эпоха:9 потрачено:2.45705438\n",
      "130 из 200 = 65.00% угадано\n",
      "Эпоха:10 потрачено:2.45288396\n",
      "130 из 200 = 65.00% угадано\n"
     ]
    }
   ],
   "source": [
    "criterion = nn.CrossEntropyLoss()\n",
    "optimizer = torch.optim.Adam(model4.parameters(), lr=0.01)\n",
    "epochs = 10\n",
    "potracheno = []\n",
    "results4 = []\n",
    "for i in range(epochs):\n",
    "    i += 1\n",
    "    Y_pred = model4.forward(X_train)\n",
    "    loss = criterion(Y_pred, Y_train)\n",
    "    potracheno.append(loss)\n",
    "\n",
    "    print(f'Эпоха:{i} потрачено:{loss.item():10.8f}')\n",
    "    counter = 0\n",
    "    y_test_len = len(Y_test)\n",
    "    with torch.no_grad():\n",
    "        for i,data in enumerate(X_test):\n",
    "            y_val = model2.forward(data)\n",
    "            if y_val.argmax().item() == Y_test[i]:\n",
    "                counter += 1\n",
    "    model4_result = f'{100*counter/y_test_len:.2f}%'       \n",
    "    print(f'{counter} из {y_test_len} = {model4_result} угадано')\n",
    "    results4.append(100*counter/y_test_len)\n",
    "\n",
    "    optimizer.zero_grad()\n",
    "    loss.backward()\n",
    "    optimizer.step()"
   ]
  },
  {
   "cell_type": "code",
   "execution_count": 128,
   "id": "e01f3589",
   "metadata": {},
   "outputs": [
    {
     "name": "stdout",
     "output_type": "stream",
     "text": [
      "118 из 200 = 59.00% угадано\n"
     ]
    }
   ],
   "source": [
    "counter = 0\n",
    "y_test_len = len(Y_test)\n",
    "with torch.no_grad():\n",
    "    for i,data in enumerate(X_test):\n",
    "        y_val = model4.forward(data)\n",
    "        if y_val.argmax().item() == Y_test[i]:\n",
    "            counter += 1\n",
    "model4_result = f'{100*counter/y_test_len:.2f}%'       \n",
    "print(f'{counter} из {y_test_len} = {model4_result} угадано')"
   ]
  },
  {
   "cell_type": "code",
   "execution_count": 129,
   "id": "e86f3ce7",
   "metadata": {},
   "outputs": [
    {
     "name": "stdout",
     "output_type": "stream",
     "text": [
      "Точность модели 1 53.50%\n",
      "Точность модели 2 65.00%\n",
      "Точность модели 3 53.50%\n",
      "Точность модели 4 59.00%\n"
     ]
    }
   ],
   "source": [
    "print(f'Точность модели 1 {model1_result}')\n",
    "print(f'Точность модели 2 {model2_result}')\n",
    "print(f'Точность модели 3 {model3_result}')\n",
    "print(f'Точность модели 4 {model4_result}')"
   ]
  },
  {
   "cell_type": "code",
   "execution_count": 130,
   "id": "d2190786",
   "metadata": {},
   "outputs": [],
   "source": [
    "Results1 = results1 + [np.nan for i in range(990)]\n",
    "Results2 = results2 + [np.nan for i in range(990)]\n",
    "Results3 = results3 + [np.nan for i in range(990)]\n",
    "Results4 = results4 + [np.nan for i in range(990)]\n",
    "\n",
    "plot = pd.DataFrame({\n",
    "    'model1': Results1,\n",
    "    'model2': Results2,\n",
    "    'model3': Results3,\n",
    "    'model4': Results4\n",
    "})"
   ]
  },
  {
   "cell_type": "code",
   "execution_count": 131,
   "id": "f260e303",
   "metadata": {},
   "outputs": [
    {
     "data": {
      "text/plain": [
       "<AxesSubplot:>"
      ]
     },
     "execution_count": 131,
     "metadata": {},
     "output_type": "execute_result"
    },
    {
     "data": {
      "image/png": "[encoded data removed]",
      "text/plain": [
       "<Figure size 1080x360 with 1 Axes>"
      ]
     },
     "metadata": {
      "needs_background": "light"
     },
     "output_type": "display_data"
    }
   ],
   "source": [
    "plot.plot(figsize=(15, 5))"
   ]
  },
  {
   "cell_type": "markdown",
   "id": "03e560c1",
   "metadata": {},
   "source": [
    "Модель 2 имееет лучшую точность"
   ]
  }
 ],
 "metadata": {
  "kernelspec": {
   "display_name": "Python 3",
   "language": "python",
   "name": "python3"
  },
  "language_info": {
   "codemirror_mode": {
    "name": "ipython",
    "version": 3
   },
   "file_extension": ".py",
   "mimetype": "text/x-python",
   "name": "python",
   "nbconvert_exporter": "python",
   "pygments_lexer": "ipython3",
   "version": "3.6.9"
  }
 },
 "nbformat": 4,
 "nbformat_minor": 5
}
